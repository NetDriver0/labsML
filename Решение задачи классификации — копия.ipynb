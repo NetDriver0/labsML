{
 "cells": [
  {
   "cell_type": "code",
   "execution_count": 19,
   "id": "020b8755",
   "metadata": {
    "ExecuteTime": {
     "end_time": "2024-04-16T09:38:22.293472500Z",
     "start_time": "2024-04-16T09:38:22.283975800Z"
    }
   },
   "outputs": [],
   "source": [
    "\n",
    "import pandas as pd\n",
    "import numpy as np\n",
    "import seaborn as sns\n",
    "import matplotlib.pyplot as plt\n",
    "import sklearn as sk\n",
    "import warnings\n",
    "warnings.filterwarnings('ignore')\n",
    "\n",
    "dataframe = pd.read_csv('credit_score_prediction.csv')\n",
    "\n",
    "dataframe.head(10)"
   ]
  }
 ],
 "metadata": {
  "kernelspec": {
   "display_name": "Python 3 (ipykernel)",
   "language": "python",
   "name": "python3"
  },
  "language_info": {
   "codemirror_mode": {
    "name": "ipython",
    "version": 3
   },
   "file_extension": ".py",
   "mimetype": "text/x-python",
   "name": "python",
   "nbconvert_exporter": "python",
   "pygments_lexer": "ipython3",
   "version": "3.10.12"
  }
 },
 "nbformat": 4,
 "nbformat_minor": 5
}
